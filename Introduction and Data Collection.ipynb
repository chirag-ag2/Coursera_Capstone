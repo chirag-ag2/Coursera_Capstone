{
 "cells": [
  {
   "cell_type": "markdown",
   "metadata": {},
   "source": [
    "## 1.\tIntroduction\n",
    "\n",
    "#### 1.1\tOverview and Analytical Approach\n",
    "\n",
    "In a city like San Francisco with a population of 3.3 million1 people and home to Silicon Valley, home evictions are getting very common. San Francisco has many areas, including the Bay Area, which are among the most densely populated areas in the United States. In these difficult times, through my project I wanted to explore and analyze the best neighborhoods for renting a house in SF, based on the probability of not getting evicted.\n",
    "\n",
    "As mentioned, the population density in San Francisco makes is very challenging to rent a house in a good neighborhood. Understanding the details of a good neighborhood is key to having a peaceful shelter, especially when the occurrences of home evictions carried out by landlords are increasing. One of the primary reasons for increased evictions can be factored to easy availability of tenants, willing to pay high rents. In a real estate market where the buyer power is less than the seller power, selecting the right neighborhood, property and landlord will reduce the chances of becoming homeless.\n",
    "\n",
    "Analyzing the above-discussed scenarios by creating density maps and information tables of the past evictions in San Francisco will provide good insights into the underlying neighborhoods. By segmenting and clustering the neighborhoods based data, one can select the best-fit neighborhood to rent a house/apartment in San Francisco.\n",
    "\n",
    "\n",
    "## 2.\tData Description\n",
    "\n",
    "#### 2.1\tData Requirements\n",
    "\n",
    "For data requirements, I identified websites that can provide details of San Francisco in a specified format (CSV, Excel,.json etc.). The data should include details of the neighborhoods and boroughs in San Francisco, CA. Also, optional data regarding postal/zip code will be useful for analyzing.\n",
    "\n",
    "#### 2.2\tData Collection\n",
    "\n",
    "In the data collection stage, I found the details of websites or articles that provide details of San Francisco’s real estate. The data I am particularly interested in was the renter’s marketplace.\n",
    "\n",
    "I have used the following data sets to analyze the problem statement discussed in the above section:\n",
    "\n",
    "1 https://en.wikipedia.org/wiki/San_Francisco\n",
    " \n",
    "•\tFrom data.world2 > Make Over Monday data sets, I downloaded the CSV file for the San Francisco Eviction Notices. During the data cleansing, I grouped the neighborhoods to Supervisor Districts3 and mapped the probability of an eviction in San Francisco using a choropleth map\n",
    "\n",
    "•\tI used Foursquare API to analyze the most common venues around the San Francisco county (in San Francisco there is no concept of Borough, instead I used counties to segment)\n",
    "\n",
    "•\tI did not have to use CSV file for Geospatial data since the data set included latitude and longitude coordinates corresponding to each data entry\n",
    "\n",
    "•\tI used the JSON file san-francisco.geojson to create the choropleth map. This JSON file was used while analyzing the San Francisco crime-related data during the data visualization lab4\n",
    "\n",
    "#### 2.3\tData Understanding and Preparation\n",
    "\n",
    "In the data understanding stage, I checked if the details provided in the data sets collected are representative of the San Francisco tenant market. I prepared data by cleansing and removing duplicates, addressing missing values, and ensuring it is properly formatted.\n"
   ]
  },
  {
   "cell_type": "code",
   "execution_count": null,
   "metadata": {},
   "outputs": [],
   "source": []
  }
 ],
 "metadata": {
  "kernelspec": {
   "display_name": "Python 3",
   "language": "python",
   "name": "python3"
  },
  "language_info": {
   "codemirror_mode": {
    "name": "ipython",
    "version": 3
   },
   "file_extension": ".py",
   "mimetype": "text/x-python",
   "name": "python",
   "nbconvert_exporter": "python",
   "pygments_lexer": "ipython3",
   "version": "3.8.3"
  }
 },
 "nbformat": 4,
 "nbformat_minor": 4
}

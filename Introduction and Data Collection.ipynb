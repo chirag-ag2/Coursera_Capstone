{
 "cells": [
  {
   "cell_type": "markdown",
   "metadata": {},
   "source": [
    "## 1. Introduction"
   ]
  },
  {
   "cell_type": "markdown",
   "metadata": {},
   "source": [
    "### 1.1 Background"
   ]
  },
  {
   "cell_type": "markdown",
   "metadata": {},
   "source": [
    "**Recenlty there has been a sharp increase of investments in the education sector in India. With the increase in demand and variety of education options available, people are being more inclined towards investing their money in opening new schools, colleges or universities.**\n"
   ]
  },
  {
   "cell_type": "markdown",
   "metadata": {},
   "source": [
    "### 1.2 Problem"
   ]
  },
  {
   "cell_type": "markdown",
   "metadata": {},
   "source": [
    "**A client is interested in investing in India by opening up a branch of a famous University. To avoid competition, he believes this university should be opened in an area where there are least number of other universities. In 28 States of India he wants to open his branch. But he is confused in which Area of Each state to open his Branch. So as a Data Scientist it is my duty to tell him the best Area from each state.**"
   ]
  },
  {
   "cell_type": "markdown",
   "metadata": {},
   "source": [
    " _________"
   ]
  },
  {
   "cell_type": "markdown",
   "metadata": {},
   "source": [
    "## 2. Data"
   ]
  },
  {
   "cell_type": "markdown",
   "metadata": {},
   "source": [
    "### 2.1 Data Collection"
   ]
  },
  {
   "cell_type": "markdown",
   "metadata": {},
   "source": [
    "**After deep consideration to solve this problem, I decided to use Foursquare.**\n",
    "\n",
    "\n",
    "**Foursquare will give me data of the locations of universities in Indian States. I can then count the number of universities in these locations. This can help in estimating the ideal location of a new setup.**\n",
    "\n",
    "\n",
    "**I will use wikipedia to know Areas in each State of India.**"
   ]
  }
 ],
 "metadata": {
  "kernelspec": {
   "display_name": "Python 3",
   "language": "python",
   "name": "python3"
  },
  "language_info": {
   "codemirror_mode": {
    "name": "ipython",
    "version": 3
   },
   "file_extension": ".py",
   "mimetype": "text/x-python",
   "name": "python",
   "nbconvert_exporter": "python",
   "pygments_lexer": "ipython3",
   "version": "3.7.6"
  }
 },
 "nbformat": 4,
 "nbformat_minor": 4
}
